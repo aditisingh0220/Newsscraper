{
  "nbformat": 4,
  "nbformat_minor": 0,
  "metadata": {
    "colab": {
      "provenance": [],
      "authorship_tag": "ABX9TyPzOTaqbmv2ng0QY7C7EugL",
      "include_colab_link": true
    },
    "kernelspec": {
      "name": "python3",
      "display_name": "Python 3"
    },
    "language_info": {
      "name": "python"
    }
  },
  "cells": [
    {
      "cell_type": "markdown",
      "metadata": {
        "id": "view-in-github",
        "colab_type": "text"
      },
      "source": [
        "<a href=\"https://colab.research.google.com/github/aditisingh0220/Newsscraper/blob/main/newsscraper.ipynb\" target=\"_parent\"><img src=\"https://colab.research.google.com/assets/colab-badge.svg\" alt=\"Open In Colab\"/></a>"
      ]
    },
    {
      "cell_type": "code",
      "execution_count": 4,
      "metadata": {
        "colab": {
          "base_uri": "https://localhost:8080/"
        },
        "id": "1KOX2qn9Agfo",
        "outputId": "bf4f2df0-19a7-4a2b-c303-77f065055ce7"
      },
      "outputs": [
        {
          "output_type": "stream",
          "name": "stdout",
          "text": [
            "Biden 'applauds' deal to end Hollywood writers' strike\n",
            "Biden 'applauds' deal to end Hollywood writers' strike\n",
            "Nazi veteran given ovation in Canada's parliament\n",
            "American-Iranian man dies at Tehran prison\n",
            "Family in 'unbearable pain' after alligator kills woman\n",
            "Passengers left upside down as ride malfunctions in Canada\n",
            "Why massive shoes are the trend of 2023\n",
            "Thousands flee Karabakh over ethnic cleansing fear\n",
            "Lethal mushroom mystery survivor leaves hospital\n",
            "Notorious Italian Mafia boss Messina Denaro dies\n",
            "France turns to British TV show for sex education\n",
            "Sophia Loren has emergency surgery after fall\n",
            "France turns to British TV show for sex education\n",
            "Sophia Loren has emergency surgery after fall\n",
            "What happens in a US government shutdown?\n",
            "Gymnastics Ireland apologises to black girl not given medal\n",
            "Lego axes plan to make bricks from recycled bottles\n",
            "Why asteroid Bennu samples are so important... in 83 seconds\n",
            "BBC World News TV\n",
            "BBC World Service Radio\n",
            "UK Sikhs under pressure amid Canada-India row\n",
            "'It wasn't me!' BBC host jokes about royal butler doppelganger\n",
            "Woman's body found in jaws of Florida alligator\n",
            "Cat missing for 11 years reunited with owner\n",
            "Lost painting by female 17th Century artist goes on display\n",
            "The inside story of the UK's mini-budget disaster\n",
            "The shadowy Chinese firms that own chunks of Cambodia\n",
            "Training to clear the world's most heavily mined country\n",
            "Farmers turn to tech as bees struggle to pollinate\n",
            "Why is violence flaring again in Kosovo?\n",
            "Trudeau facing cold reality after lonely week on world stage\n",
            "How Zelensky is grappling with Western war fatigue\n",
            "The people who still rely on paper\n",
            "'Shrinkflation': Paying more for less\n",
            "Scotland's little-known royal gems\n",
            "Is this the most absurd 2023 trend yet?\n",
            "The city that went green to keep cool\n",
            "Zoom and Grindr are ending remote work\n",
            "Eight sites that reveal Rome's history\n",
            "ECB wants to 'change game' to tackle discrimination\n",
            "Ajax v Feyenoord to resume without fans after chaos\n",
            "'Sacking Jones is worst thing Australia can do'\n",
            "'Ciganda delivered for Europe at course not fit for purpose'\n",
            "The lone away fan who led his club to glory\n",
            "'Liverpool 2.0 reminds me of Klopp's best teams'\n",
            "Nine-year-old Alegado stars at Asian Games\n",
            "News daily newsletter\n",
            "Mobile app\n",
            "Get in touch\n"
          ]
        }
      ],
      "source": [
        "import requests\n",
        "from bs4 import BeautifulSoup\n",
        "\n",
        "# URL of the website to scrape\n",
        "url = 'https://www.bbc.co.uk/news'\n",
        "\n",
        "# request to get the URL\n",
        "response = requests.get(url)\n",
        "\n",
        "# Check if the request was successful (status code 200)\n",
        "if response.status_code == 200:\n",
        "    # Parse the HTML content of the page\n",
        "    soup = BeautifulSoup(response.text, 'html.parser')\n",
        "\n",
        "    # Find and print headlines\n",
        "    for headline in soup.find_all('h3'):\n",
        "        print(headline.text)\n",
        "else:\n",
        "    print('Failed to retrieve the web page.')\n",
        "\n"
      ]
    }
  ]
}